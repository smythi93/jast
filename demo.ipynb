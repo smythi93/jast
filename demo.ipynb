{
 "cells": [
  {
   "metadata": {},
   "cell_type": "markdown",
   "source": [
    "# JAST Demo\n",
    "\n",
    "We will demonstrate the usage of the JAST library by parsing a simple Java source code, printing the AST, and modifying the AST.\n",
    "\n",
    "We start by importing the JAST library."
   ],
   "id": "ee7efdf1b062a2b1"
  },
  {
   "metadata": {
    "collapsed": true,
    "ExecuteTime": {
     "end_time": "2025-01-14T09:22:52.121485Z",
     "start_time": "2025-01-14T09:22:52.117459Z"
    }
   },
   "cell_type": "code",
   "source": "import jast",
   "id": "initial_id",
   "outputs": [],
   "execution_count": 31
  },
  {
   "metadata": {},
   "cell_type": "markdown",
   "source": [
    "Let's consider a simple Java class:\n",
    "```java\n",
    "class Add {\n",
    "    public static void add(int a, int b) {\n",
    "        System.out.println(a + b);\n",
    "    }\n",
    "\n",
    "    public static void main(String[] args) {\n",
    "        System.out.println(add(27, 55));\n",
    "    }\n",
    "}\n",
    "```\n",
    "We can find an implementation of it in the `Add.java` file in the demo directory."
   ],
   "id": "c1b543c7db3eea88"
  },
  {
   "metadata": {},
   "cell_type": "markdown",
   "source": "Let's get the content of the file.",
   "id": "dcdb49036eb27510"
  },
  {
   "metadata": {
    "ExecuteTime": {
     "end_time": "2025-01-14T09:22:52.136925Z",
     "start_time": "2025-01-14T09:22:52.133071Z"
    }
   },
   "cell_type": "code",
   "source": [
    "import os\n",
    "with open(os.path.join(\"demo\", \"Add.java\")) as f:\n",
    "    src = f.read()"
   ],
   "id": "bf312f502956220",
   "outputs": [],
   "execution_count": 32
  },
  {
   "metadata": {
    "ExecuteTime": {
     "end_time": "2025-01-14T09:22:52.158921Z",
     "start_time": "2025-01-14T09:22:52.155442Z"
    }
   },
   "cell_type": "code",
   "source": "print(src)",
   "id": "8b94a8dcd4020c50",
   "outputs": [
    {
     "name": "stdout",
     "output_type": "stream",
     "text": [
      "class Add {\n",
      "    public static int add(int a, int b) {\n",
      "        return a + b;\n",
      "    }\n",
      "\n",
      "    public static void main(String[] args) {\n",
      "        System.out.println(add(27, 55));\n",
      "    }\n",
      "}\n"
     ]
    }
   ],
   "execution_count": 33
  },
  {
   "metadata": {},
   "cell_type": "markdown",
   "source": "We can compile the Java file to execute it.",
   "id": "e3f6020b540c7523"
  },
  {
   "metadata": {
    "ExecuteTime": {
     "end_time": "2025-01-14T09:22:53.157654Z",
     "start_time": "2025-01-14T09:22:52.193400Z"
    }
   },
   "cell_type": "code",
   "source": [
    "import subprocess\n",
    "subprocess.run([\"javac\", \"-d\", \"demo\", os.path.join(\"demo\", \"Add.java\")])\n",
    "process = subprocess.run([\"java\", \"-cp\", \"demo\", \"Add\"], stdout=subprocess.PIPE)\n",
    "print(process.stdout.decode())"
   ],
   "id": "4d8718b803e0f47b",
   "outputs": [
    {
     "name": "stdout",
     "output_type": "stream",
     "text": [
      "82\n",
      "\n"
     ]
    }
   ],
   "execution_count": 34
  },
  {
   "metadata": {},
   "cell_type": "markdown",
   "source": "Now we can parse the AST from the Java source code.",
   "id": "70ad7c61dd29b208"
  },
  {
   "metadata": {
    "ExecuteTime": {
     "end_time": "2025-01-14T09:22:53.184156Z",
     "start_time": "2025-01-14T09:22:53.173451Z"
    }
   },
   "cell_type": "code",
   "source": "tree = jast.parse(src)",
   "id": "52f23f3918051e40",
   "outputs": [],
   "execution_count": 35
  },
  {
   "metadata": {},
   "cell_type": "markdown",
   "source": "Let's take a look at the AST by un-parsing it.",
   "id": "43a1593e6461e1a6"
  },
  {
   "metadata": {
    "ExecuteTime": {
     "end_time": "2025-01-14T09:22:53.210053Z",
     "start_time": "2025-01-14T09:22:53.206222Z"
    }
   },
   "cell_type": "code",
   "source": "print(jast.unparse(tree))",
   "id": "583c68223e6d6843",
   "outputs": [
    {
     "name": "stdout",
     "output_type": "stream",
     "text": [
      "class Add {\n",
      "    public static int add(int a, int b) {\n",
      "        return a + b;\n",
      "    }\n",
      "\n",
      "    public static void main(String[] args) {\n",
      "        System.out.println(add(27, 55));\n",
      "    }\n",
      "}\n",
      "\n"
     ]
    }
   ],
   "execution_count": 36
  },
  {
   "metadata": {},
   "cell_type": "markdown",
   "source": "Next, we will modify the AST by making the `add` method return the difference of the two arguments instead of the sum.",
   "id": "3a4f485698cf53a9"
  },
  {
   "metadata": {
    "ExecuteTime": {
     "end_time": "2025-01-14T09:22:53.259342Z",
     "start_time": "2025-01-14T09:22:53.254365Z"
    }
   },
   "cell_type": "code",
   "source": [
    "class ChangeAdd(jast.JNodeTransformer):\n",
    "    def visit_MethodDeclaration(self, node):\n",
    "        if node.identifier.name == \"add\":\n",
    "            node.body = self.visit(node.body)\n",
    "            return node\n",
    "        return node\n",
    "\n",
    "    def visit_BinOp(self, node):\n",
    "        if isinstance(node.op, jast.Add):\n",
    "            node.op = jast.Sub()\n",
    "            return node\n",
    "        return node"
   ],
   "id": "2cfe0a0b889b9fbb",
   "outputs": [],
   "execution_count": 37
  },
  {
   "metadata": {
    "ExecuteTime": {
     "end_time": "2025-01-14T09:22:53.273093Z",
     "start_time": "2025-01-14T09:22:53.270141Z"
    }
   },
   "cell_type": "code",
   "source": "change_add = ChangeAdd()",
   "id": "e7d82968c176df7d",
   "outputs": [],
   "execution_count": 38
  },
  {
   "metadata": {
    "ExecuteTime": {
     "end_time": "2025-01-14T09:22:53.301421Z",
     "start_time": "2025-01-14T09:22:53.297826Z"
    }
   },
   "cell_type": "code",
   "source": "new_tree = change_add.visit(tree)",
   "id": "2d69c9374f3e472",
   "outputs": [],
   "execution_count": 39
  },
  {
   "metadata": {
    "ExecuteTime": {
     "end_time": "2025-01-14T09:22:53.325313Z",
     "start_time": "2025-01-14T09:22:53.321276Z"
    }
   },
   "cell_type": "code",
   "source": [
    "code = jast.unparse(new_tree)\n",
    "print(code)"
   ],
   "id": "e7537f68f596fdea",
   "outputs": [
    {
     "name": "stdout",
     "output_type": "stream",
     "text": [
      "class Add {\n",
      "    public static int add(int a, int b) {\n",
      "        return a - b;\n",
      "    }\n",
      "\n",
      "    public static void main(String[] args) {\n",
      "        System.out.println(add(27, 55));\n",
      "    }\n",
      "}\n",
      "\n"
     ]
    }
   ],
   "execution_count": 40
  },
  {
   "metadata": {},
   "cell_type": "markdown",
   "source": "We can save the modified Java source code to a file, compile it, and execute it.",
   "id": "2a336329f6bfd0a2"
  },
  {
   "metadata": {
    "ExecuteTime": {
     "end_time": "2025-01-14T09:22:53.374590Z",
     "start_time": "2025-01-14T09:22:53.370551Z"
    }
   },
   "cell_type": "code",
   "source": [
    "with open(os.path.join(\"demo\", \"Sub.java\"), \"w\") as f:\n",
    "    f.write(code)"
   ],
   "id": "1edccb99a2180641",
   "outputs": [],
   "execution_count": 41
  },
  {
   "metadata": {
    "ExecuteTime": {
     "end_time": "2025-01-14T09:22:54.079755Z",
     "start_time": "2025-01-14T09:22:53.385285Z"
    }
   },
   "cell_type": "code",
   "source": "subprocess.run([\"javac\", \"-d\", \"demo\", os.path.join(\"demo\", \"Sub.java\")])",
   "id": "ee6bb639f1cb1049",
   "outputs": [
    {
     "data": {
      "text/plain": [
       "CompletedProcess(args=['javac', '-d', 'demo', 'demo/Sub.java'], returncode=0)"
      ]
     },
     "execution_count": 42,
     "metadata": {},
     "output_type": "execute_result"
    }
   ],
   "execution_count": 42
  },
  {
   "metadata": {
    "ExecuteTime": {
     "end_time": "2025-01-14T09:22:54.378738Z",
     "start_time": "2025-01-14T09:22:54.097009Z"
    }
   },
   "cell_type": "code",
   "source": [
    "process = subprocess.run([\"java\", \"-cp\", \"demo\", \"Add\"], stdout=subprocess.PIPE)\n",
    "print(process.stdout.decode())"
   ],
   "id": "b640254f9c8c038c",
   "outputs": [
    {
     "name": "stdout",
     "output_type": "stream",
     "text": [
      "-28\n",
      "\n"
     ]
    }
   ],
   "execution_count": 43
  }
 ],
 "metadata": {
  "kernelspec": {
   "display_name": "Python 3",
   "language": "python",
   "name": "python3"
  },
  "language_info": {
   "codemirror_mode": {
    "name": "ipython",
    "version": 2
   },
   "file_extension": ".py",
   "mimetype": "text/x-python",
   "name": "python",
   "nbconvert_exporter": "python",
   "pygments_lexer": "ipython2",
   "version": "2.7.6"
  }
 },
 "nbformat": 4,
 "nbformat_minor": 5
}
