{
 "cells": [
  {
   "cell_type": "markdown",
   "id": "ee7efdf1b062a2b1",
   "metadata": {},
   "source": [
    "# JAST Demo\n",
    "\n",
    "We will demonstrate the usage of the JAST library by parsing a simple Java source code, printing the AST, and modifying the AST.\n",
    "\n",
    "We start by importing the JAST library."
   ]
  },
  {
   "cell_type": "code",
   "id": "initial_id",
   "metadata": {
    "ExecuteTime": {
     "end_time": "2025-01-25T12:50:19.947286Z",
     "start_time": "2025-01-25T12:50:19.837080Z"
    }
   },
   "source": [
    "import jast"
   ],
   "outputs": [],
   "execution_count": 1
  },
  {
   "cell_type": "markdown",
   "id": "c1b543c7db3eea88",
   "metadata": {},
   "source": [
    "Let's consider a simple Java class:\n",
    "```java\n",
    "class Add {\n",
    "    public static void add(int a, int b) {\n",
    "        System.out.println(a + b);\n",
    "    }\n",
    "\n",
    "    public static void main(String[] args) {\n",
    "        System.out.println(add(27, 55));\n",
    "    }\n",
    "}\n",
    "```\n",
    "We can find an implementation of it in the `Add.java` file in the demo directory."
   ]
  },
  {
   "cell_type": "markdown",
   "id": "dcdb49036eb27510",
   "metadata": {},
   "source": [
    "Let's get the content of the file."
   ]
  },
  {
   "cell_type": "code",
   "id": "bf312f502956220",
   "metadata": {
    "ExecuteTime": {
     "end_time": "2025-01-25T12:50:21.196711Z",
     "start_time": "2025-01-25T12:50:21.192256Z"
    }
   },
   "source": [
    "import os\n",
    "with open(os.path.join(\"demo\", \"Add.java\")) as f:\n",
    "    src = f.read()"
   ],
   "outputs": [],
   "execution_count": 2
  },
  {
   "cell_type": "code",
   "id": "8b94a8dcd4020c50",
   "metadata": {
    "ExecuteTime": {
     "end_time": "2025-01-25T12:50:21.807181Z",
     "start_time": "2025-01-25T12:50:21.803281Z"
    }
   },
   "source": [
    "print(src)"
   ],
   "outputs": [
    {
     "name": "stdout",
     "output_type": "stream",
     "text": [
      "class Add {\n",
      "    public static int add(int a, int b) {\n",
      "        return a + b;\n",
      "    }\n",
      "\n",
      "    public static void main(String[] args) {\n",
      "        System.out.println(add(27, 55));\n",
      "    }\n",
      "}\n"
     ]
    }
   ],
   "execution_count": 3
  },
  {
   "cell_type": "markdown",
   "id": "e3f6020b540c7523",
   "metadata": {},
   "source": [
    "We can compile the Java file to execute it."
   ]
  },
  {
   "cell_type": "code",
   "id": "4d8718b803e0f47b",
   "metadata": {
    "ExecuteTime": {
     "end_time": "2025-01-25T12:50:24.162800Z",
     "start_time": "2025-01-25T12:50:22.950369Z"
    }
   },
   "source": [
    "import subprocess\n",
    "subprocess.run([\"javac\", \"-d\", \"demo\", os.path.join(\"demo\", \"Add.java\")])\n",
    "process = subprocess.run([\"java\", \"-cp\", \"demo\", \"Add\"], stdout=subprocess.PIPE)\n",
    "print(process.stdout.decode())"
   ],
   "outputs": [
    {
     "name": "stdout",
     "output_type": "stream",
     "text": [
      "82\n",
      "\n"
     ]
    }
   ],
   "execution_count": 4
  },
  {
   "cell_type": "markdown",
   "id": "70ad7c61dd29b208",
   "metadata": {},
   "source": [
    "Now we can parse the AST from the Java source code."
   ]
  },
  {
   "cell_type": "code",
   "id": "52f23f3918051e40",
   "metadata": {
    "ExecuteTime": {
     "end_time": "2025-01-25T12:50:26.137178Z",
     "start_time": "2025-01-25T12:50:25.574662Z"
    }
   },
   "source": [
    "tree = jast.parse(src)"
   ],
   "outputs": [],
   "execution_count": 5
  },
  {
   "cell_type": "markdown",
   "id": "43a1593e6461e1a6",
   "metadata": {},
   "source": [
    "Let's take a look at the AST by un-parsing it."
   ]
  },
  {
   "cell_type": "code",
   "id": "583c68223e6d6843",
   "metadata": {
    "ExecuteTime": {
     "end_time": "2025-01-25T12:50:27.158381Z",
     "start_time": "2025-01-25T12:50:27.154091Z"
    }
   },
   "source": [
    "print(jast.unparse(tree))"
   ],
   "outputs": [
    {
     "name": "stdout",
     "output_type": "stream",
     "text": [
      "class Add {\n",
      "\n",
      "    public static int add(int a, int b) {\n",
      "        return a + b;\n",
      "    }\n",
      "\n",
      "    public static void main(String[] args) {\n",
      "        System.out.println(add(27, 55));\n",
      "    }\n",
      "}\n"
     ]
    }
   ],
   "execution_count": 6
  },
  {
   "cell_type": "markdown",
   "id": "3a4f485698cf53a9",
   "metadata": {},
   "source": [
    "Next, we will modify the AST by making the `add` method return the difference of the two arguments instead of the sum."
   ]
  },
  {
   "cell_type": "code",
   "id": "2cfe0a0b889b9fbb",
   "metadata": {
    "ExecuteTime": {
     "end_time": "2025-01-25T12:50:34.309813Z",
     "start_time": "2025-01-25T12:50:34.305679Z"
    }
   },
   "source": [
    "class ChangeAdd(jast.JNodeTransformer):\n",
    "    def visit_Method(self, node):\n",
    "        if node.id == \"add\":\n",
    "            node.body = self.visit(node.body)\n",
    "            return node\n",
    "        return node\n",
    "\n",
    "    def visit_BinOp(self, node):\n",
    "        if isinstance(node.op, jast.Add):\n",
    "            node.op = jast.Sub()\n",
    "            return node\n",
    "        return node"
   ],
   "outputs": [],
   "execution_count": 7
  },
  {
   "cell_type": "code",
   "id": "e7d82968c176df7d",
   "metadata": {
    "ExecuteTime": {
     "end_time": "2025-01-25T12:50:34.939826Z",
     "start_time": "2025-01-25T12:50:34.935823Z"
    }
   },
   "source": [
    "change_add = ChangeAdd()"
   ],
   "outputs": [],
   "execution_count": 8
  },
  {
   "cell_type": "code",
   "id": "2d69c9374f3e472",
   "metadata": {
    "ExecuteTime": {
     "end_time": "2025-01-25T12:50:35.638315Z",
     "start_time": "2025-01-25T12:50:35.634525Z"
    }
   },
   "source": [
    "new_tree = change_add.visit(tree)"
   ],
   "outputs": [],
   "execution_count": 9
  },
  {
   "cell_type": "code",
   "id": "e7537f68f596fdea",
   "metadata": {
    "ExecuteTime": {
     "end_time": "2025-01-25T12:50:36.359583Z",
     "start_time": "2025-01-25T12:50:36.355463Z"
    }
   },
   "source": [
    "code = jast.unparse(new_tree)\n",
    "print(code)"
   ],
   "outputs": [
    {
     "name": "stdout",
     "output_type": "stream",
     "text": [
      "class Add {\n",
      "\n",
      "    public static int add(int a, int b) {\n",
      "        return a - b;\n",
      "    }\n",
      "\n",
      "    public static void main(String[] args) {\n",
      "        System.out.println(add(27, 55));\n",
      "    }\n",
      "}\n"
     ]
    }
   ],
   "execution_count": 10
  },
  {
   "cell_type": "markdown",
   "id": "2a336329f6bfd0a2",
   "metadata": {},
   "source": [
    "We can save the modified Java source code to a file, compile it, and execute it."
   ]
  },
  {
   "cell_type": "code",
   "id": "1edccb99a2180641",
   "metadata": {
    "ExecuteTime": {
     "end_time": "2025-01-25T12:50:38.071178Z",
     "start_time": "2025-01-25T12:50:38.067505Z"
    }
   },
   "source": [
    "with open(os.path.join(\"demo\", \"Sub.java\"), \"w\") as f:\n",
    "    f.write(code)"
   ],
   "outputs": [],
   "execution_count": 11
  },
  {
   "cell_type": "code",
   "id": "ee6bb639f1cb1049",
   "metadata": {
    "ExecuteTime": {
     "end_time": "2025-01-25T12:50:39.437582Z",
     "start_time": "2025-01-25T12:50:38.718069Z"
    }
   },
   "source": [
    "subprocess.run([\"javac\", \"-d\", \"demo\", os.path.join(\"demo\", \"Sub.java\")])"
   ],
   "outputs": [
    {
     "data": {
      "text/plain": [
       "CompletedProcess(args=['javac', '-d', 'demo', 'demo/Sub.java'], returncode=0)"
      ]
     },
     "execution_count": 12,
     "metadata": {},
     "output_type": "execute_result"
    }
   ],
   "execution_count": 12
  },
  {
   "cell_type": "code",
   "id": "b640254f9c8c038c",
   "metadata": {
    "ExecuteTime": {
     "end_time": "2025-01-25T12:50:40.369866Z",
     "start_time": "2025-01-25T12:50:40.084728Z"
    }
   },
   "source": [
    "process = subprocess.run([\"java\", \"-cp\", \"demo\", \"Add\"], stdout=subprocess.PIPE)\n",
    "print(process.stdout.decode())"
   ],
   "outputs": [
    {
     "name": "stdout",
     "output_type": "stream",
     "text": [
      "-28\n",
      "\n"
     ]
    }
   ],
   "execution_count": 13
  }
 ],
 "metadata": {
  "kernelspec": {
   "display_name": "Python 3 (ipykernel)",
   "language": "python",
   "name": "python3"
  },
  "language_info": {
   "codemirror_mode": {
    "name": "ipython",
    "version": 3
   },
   "file_extension": ".py",
   "mimetype": "text/x-python",
   "name": "python",
   "nbconvert_exporter": "python",
   "pygments_lexer": "ipython3",
   "version": "3.11.1"
  }
 },
 "nbformat": 4,
 "nbformat_minor": 5
}
