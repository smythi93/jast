{
 "cells": [
  {
   "cell_type": "markdown",
   "id": "ee7efdf1b062a2b1",
   "metadata": {},
   "source": [
    "# JAST Demo\n",
    "\n",
    "We will demonstrate the usage of the JAST library by parsing a simple Java source code, printing the AST, and modifying the AST.\n",
    "\n",
    "We start by importing the JAST library."
   ]
  },
  {
   "cell_type": "code",
   "execution_count": 1,
   "id": "initial_id",
   "metadata": {
    "ExecuteTime": {
     "end_time": "2025-01-14T09:22:52.121485Z",
     "start_time": "2025-01-14T09:22:52.117459Z"
    }
   },
   "outputs": [],
   "source": [
    "import jast"
   ]
  },
  {
   "cell_type": "markdown",
   "id": "c1b543c7db3eea88",
   "metadata": {},
   "source": [
    "Let's consider a simple Java class:\n",
    "```java\n",
    "class Add {\n",
    "    public static void add(int a, int b) {\n",
    "        System.out.println(a + b);\n",
    "    }\n",
    "\n",
    "    public static void main(String[] args) {\n",
    "        System.out.println(add(27, 55));\n",
    "    }\n",
    "}\n",
    "```\n",
    "We can find an implementation of it in the `Add.java` file in the demo directory."
   ]
  },
  {
   "cell_type": "markdown",
   "id": "dcdb49036eb27510",
   "metadata": {},
   "source": [
    "Let's get the content of the file."
   ]
  },
  {
   "cell_type": "code",
   "execution_count": 2,
   "id": "bf312f502956220",
   "metadata": {
    "ExecuteTime": {
     "end_time": "2025-01-14T09:22:52.136925Z",
     "start_time": "2025-01-14T09:22:52.133071Z"
    }
   },
   "outputs": [],
   "source": [
    "import os\n",
    "with open(os.path.join(\"demo\", \"Add.java\")) as f:\n",
    "    src = f.read()"
   ]
  },
  {
   "cell_type": "code",
   "execution_count": 3,
   "id": "8b94a8dcd4020c50",
   "metadata": {
    "ExecuteTime": {
     "end_time": "2025-01-14T09:22:52.158921Z",
     "start_time": "2025-01-14T09:22:52.155442Z"
    }
   },
   "outputs": [
    {
     "name": "stdout",
     "output_type": "stream",
     "text": [
      "class Add {\n",
      "    public static int add(int a, int b) {\n",
      "        return a + b;\n",
      "    }\n",
      "\n",
      "    public static void main(String[] args) {\n",
      "        System.out.println(add(27, 55));\n",
      "    }\n",
      "}\n"
     ]
    }
   ],
   "source": [
    "print(src)"
   ]
  },
  {
   "cell_type": "markdown",
   "id": "e3f6020b540c7523",
   "metadata": {},
   "source": [
    "We can compile the Java file to execute it."
   ]
  },
  {
   "cell_type": "code",
   "execution_count": 4,
   "id": "4d8718b803e0f47b",
   "metadata": {
    "ExecuteTime": {
     "end_time": "2025-01-14T09:22:53.157654Z",
     "start_time": "2025-01-14T09:22:52.193400Z"
    }
   },
   "outputs": [
    {
     "name": "stdout",
     "output_type": "stream",
     "text": [
      "82\n",
      "\n"
     ]
    }
   ],
   "source": [
    "import subprocess\n",
    "subprocess.run([\"javac\", \"-d\", \"demo\", os.path.join(\"demo\", \"Add.java\")])\n",
    "process = subprocess.run([\"java\", \"-cp\", \"demo\", \"Add\"], stdout=subprocess.PIPE)\n",
    "print(process.stdout.decode())"
   ]
  },
  {
   "cell_type": "markdown",
   "id": "70ad7c61dd29b208",
   "metadata": {},
   "source": [
    "Now we can parse the AST from the Java source code."
   ]
  },
  {
   "cell_type": "code",
   "execution_count": 5,
   "id": "52f23f3918051e40",
   "metadata": {
    "ExecuteTime": {
     "end_time": "2025-01-14T09:22:53.184156Z",
     "start_time": "2025-01-14T09:22:53.173451Z"
    }
   },
   "outputs": [],
   "source": [
    "tree = jast.parse(src)"
   ]
  },
  {
   "cell_type": "markdown",
   "id": "43a1593e6461e1a6",
   "metadata": {},
   "source": [
    "Let's take a look at the AST by un-parsing it."
   ]
  },
  {
   "cell_type": "code",
   "execution_count": 6,
   "id": "583c68223e6d6843",
   "metadata": {
    "ExecuteTime": {
     "end_time": "2025-01-14T09:22:53.210053Z",
     "start_time": "2025-01-14T09:22:53.206222Z"
    }
   },
   "outputs": [
    {
     "name": "stdout",
     "output_type": "stream",
     "text": [
      "class Add {\n",
      "    public static int add(int a, int b) {\n",
      "        return a + b;\n",
      "    }\n",
      "\n",
      "    public static void main(String[] args) {\n",
      "        System.out.println(add(27, 55));\n",
      "    }\n",
      "}\n",
      "\n"
     ]
    }
   ],
   "source": [
    "print(jast.unparse(tree))"
   ]
  },
  {
   "cell_type": "markdown",
   "id": "3a4f485698cf53a9",
   "metadata": {},
   "source": [
    "Next, we will modify the AST by making the `add` method return the difference of the two arguments instead of the sum."
   ]
  },
  {
   "cell_type": "code",
   "execution_count": 7,
   "id": "2cfe0a0b889b9fbb",
   "metadata": {
    "ExecuteTime": {
     "end_time": "2025-01-14T09:22:53.259342Z",
     "start_time": "2025-01-14T09:22:53.254365Z"
    }
   },
   "outputs": [],
   "source": [
    "class ChangeAdd(jast.JNodeTransformer):\n",
    "    def visit_MethodDeclaration(self, node):\n",
    "        if node.identifier.qname == \"add\":\n",
    "            node.body = self.visit(node.body)\n",
    "            return node\n",
    "        return node\n",
    "\n",
    "    def visit_BinOp(self, node):\n",
    "        if isinstance(node.op, jast.Add):\n",
    "            node.op = jast.Sub()\n",
    "            return node\n",
    "        return node"
   ]
  },
  {
   "cell_type": "code",
   "execution_count": 8,
   "id": "e7d82968c176df7d",
   "metadata": {
    "ExecuteTime": {
     "end_time": "2025-01-14T09:22:53.273093Z",
     "start_time": "2025-01-14T09:22:53.270141Z"
    }
   },
   "outputs": [],
   "source": [
    "change_add = ChangeAdd()"
   ]
  },
  {
   "cell_type": "code",
   "execution_count": 9,
   "id": "2d69c9374f3e472",
   "metadata": {
    "ExecuteTime": {
     "end_time": "2025-01-14T09:22:53.301421Z",
     "start_time": "2025-01-14T09:22:53.297826Z"
    }
   },
   "outputs": [],
   "source": [
    "new_tree = change_add.visit(tree)"
   ]
  },
  {
   "cell_type": "code",
   "execution_count": 10,
   "id": "e7537f68f596fdea",
   "metadata": {
    "ExecuteTime": {
     "end_time": "2025-01-14T09:22:53.325313Z",
     "start_time": "2025-01-14T09:22:53.321276Z"
    }
   },
   "outputs": [
    {
     "name": "stdout",
     "output_type": "stream",
     "text": [
      "class Add {\n",
      "    public static int add(int a, int b) {\n",
      "        return a - b;\n",
      "    }\n",
      "\n",
      "    public static void main(String[] args) {\n",
      "        System.out.println(add(27, 55));\n",
      "    }\n",
      "}\n",
      "\n"
     ]
    }
   ],
   "source": [
    "code = jast.unparse(new_tree)\n",
    "print(code)"
   ]
  },
  {
   "cell_type": "markdown",
   "id": "2a336329f6bfd0a2",
   "metadata": {},
   "source": [
    "We can save the modified Java source code to a file, compile it, and execute it."
   ]
  },
  {
   "cell_type": "code",
   "execution_count": 11,
   "id": "1edccb99a2180641",
   "metadata": {
    "ExecuteTime": {
     "end_time": "2025-01-14T09:22:53.374590Z",
     "start_time": "2025-01-14T09:22:53.370551Z"
    }
   },
   "outputs": [],
   "source": [
    "with open(os.path.join(\"demo\", \"Sub.java\"), \"w\") as f:\n",
    "    f.write(code)"
   ]
  },
  {
   "cell_type": "code",
   "execution_count": 12,
   "id": "ee6bb639f1cb1049",
   "metadata": {
    "ExecuteTime": {
     "end_time": "2025-01-14T09:22:54.079755Z",
     "start_time": "2025-01-14T09:22:53.385285Z"
    }
   },
   "outputs": [
    {
     "data": {
      "text/plain": [
       "CompletedProcess(args=['javac', '-d', 'demo', 'demo/Sub.java'], returncode=0)"
      ]
     },
     "execution_count": 12,
     "metadata": {},
     "output_type": "execute_result"
    }
   ],
   "source": [
    "subprocess.run([\"javac\", \"-d\", \"demo\", os.path.join(\"demo\", \"Sub.java\")])"
   ]
  },
  {
   "cell_type": "code",
   "execution_count": 13,
   "id": "b640254f9c8c038c",
   "metadata": {
    "ExecuteTime": {
     "end_time": "2025-01-14T09:22:54.378738Z",
     "start_time": "2025-01-14T09:22:54.097009Z"
    }
   },
   "outputs": [
    {
     "name": "stdout",
     "output_type": "stream",
     "text": [
      "-28\n",
      "\n"
     ]
    }
   ],
   "source": [
    "process = subprocess.run([\"java\", \"-cp\", \"demo\", \"Add\"], stdout=subprocess.PIPE)\n",
    "print(process.stdout.decode())"
   ]
  },
  {
   "cell_type": "code",
   "execution_count": null,
   "id": "f70fe33d-9c97-4b3d-80dd-fa9887908026",
   "metadata": {},
   "outputs": [],
   "source": []
  }
 ],
 "metadata": {
  "kernelspec": {
   "display_name": "Python 3 (ipykernel)",
   "language": "python",
   "name": "python3"
  },
  "language_info": {
   "codemirror_mode": {
    "name": "ipython",
    "version": 3
   },
   "file_extension": ".py",
   "mimetype": "text/x-python",
   "name": "python",
   "nbconvert_exporter": "python",
   "pygments_lexer": "ipython3",
   "version": "3.11.1"
  }
 },
 "nbformat": 4,
 "nbformat_minor": 5
}
