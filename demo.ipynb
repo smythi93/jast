{
 "cells": [
  {
   "cell_type": "markdown",
   "id": "ee7efdf1b062a2b1",
   "metadata": {},
   "source": [
    "# JAST Demo\n",
    "\n",
    "We will demonstrate the usage of the JAST library by parsing a simple Java source code, printing the AST, and modifying the AST.\n",
    "\n",
    "We start by importing the JAST library."
   ]
  },
  {
   "cell_type": "code",
   "id": "initial_id",
   "metadata": {
    "ExecuteTime": {
     "end_time": "2025-01-20T13:58:05.467952Z",
     "start_time": "2025-01-20T13:58:05.123659Z"
    }
   },
   "source": [
    "import jast"
   ],
   "outputs": [],
   "execution_count": 2
  },
  {
   "cell_type": "markdown",
   "id": "c1b543c7db3eea88",
   "metadata": {},
   "source": [
    "Let's consider a simple Java class:\n",
    "```java\n",
    "class Add {\n",
    "    public static void add(int a, int b) {\n",
    "        System.out.println(a + b);\n",
    "    }\n",
    "\n",
    "    public static void main(String[] args) {\n",
    "        System.out.println(add(27, 55));\n",
    "    }\n",
    "}\n",
    "```\n",
    "We can find an implementation of it in the `Add.java` file in the demo directory."
   ]
  },
  {
   "cell_type": "markdown",
   "id": "dcdb49036eb27510",
   "metadata": {},
   "source": [
    "Let's get the content of the file."
   ]
  },
  {
   "cell_type": "code",
   "id": "bf312f502956220",
   "metadata": {
    "ExecuteTime": {
     "end_time": "2025-01-20T13:58:09.611478Z",
     "start_time": "2025-01-20T13:58:09.606843Z"
    }
   },
   "source": [
    "import os\n",
    "with open(os.path.join(\"demo\", \"Add.java\")) as f:\n",
    "    src = f.read()"
   ],
   "outputs": [],
   "execution_count": 3
  },
  {
   "cell_type": "code",
   "id": "8b94a8dcd4020c50",
   "metadata": {
    "ExecuteTime": {
     "end_time": "2025-01-20T13:58:11.370917Z",
     "start_time": "2025-01-20T13:58:11.367051Z"
    }
   },
   "source": [
    "print(src)"
   ],
   "outputs": [
    {
     "name": "stdout",
     "output_type": "stream",
     "text": [
      "class Add {\n",
      "    public static int add(int a, int b) {\n",
      "        return a + b;\n",
      "    }\n",
      "\n",
      "    public static void main(String[] args) {\n",
      "        System.out.println(add(27, 55));\n",
      "    }\n",
      "}\n"
     ]
    }
   ],
   "execution_count": 4
  },
  {
   "cell_type": "markdown",
   "id": "e3f6020b540c7523",
   "metadata": {},
   "source": [
    "We can compile the Java file to execute it."
   ]
  },
  {
   "cell_type": "code",
   "id": "4d8718b803e0f47b",
   "metadata": {
    "ExecuteTime": {
     "end_time": "2025-01-20T13:58:17.752478Z",
     "start_time": "2025-01-20T13:58:16.475612Z"
    }
   },
   "source": [
    "import subprocess\n",
    "subprocess.run([\"javac\", \"-d\", \"demo\", os.path.join(\"demo\", \"Add.java\")])\n",
    "process = subprocess.run([\"java\", \"-cp\", \"demo\", \"Add\"], stdout=subprocess.PIPE)\n",
    "print(process.stdout.decode())"
   ],
   "outputs": [
    {
     "name": "stdout",
     "output_type": "stream",
     "text": [
      "82\n",
      "\n"
     ]
    }
   ],
   "execution_count": 5
  },
  {
   "cell_type": "markdown",
   "id": "70ad7c61dd29b208",
   "metadata": {},
   "source": [
    "Now we can parse the AST from the Java source code."
   ]
  },
  {
   "cell_type": "code",
   "id": "52f23f3918051e40",
   "metadata": {
    "ExecuteTime": {
     "end_time": "2025-01-20T13:58:20.657121Z",
     "start_time": "2025-01-20T13:58:20.075114Z"
    }
   },
   "source": [
    "tree = jast.parse(src)"
   ],
   "outputs": [],
   "execution_count": 6
  },
  {
   "cell_type": "markdown",
   "id": "43a1593e6461e1a6",
   "metadata": {},
   "source": [
    "Let's take a look at the AST by un-parsing it."
   ]
  },
  {
   "cell_type": "code",
   "id": "583c68223e6d6843",
   "metadata": {
    "ExecuteTime": {
     "end_time": "2025-01-20T13:58:22.701521Z",
     "start_time": "2025-01-20T13:58:22.697641Z"
    }
   },
   "source": [
    "print(jast.unparse(tree))"
   ],
   "outputs": [
    {
     "name": "stdout",
     "output_type": "stream",
     "text": [
      "class Add {\n",
      "    public static int add(int a, int b) {\n",
      "        return a + b;\n",
      "    }\n",
      "\n",
      "    public static void main(String[] args) {\n",
      "        System.out.println(add(27, 55));\n",
      "    }\n",
      "}\n",
      "\n"
     ]
    }
   ],
   "execution_count": 7
  },
  {
   "cell_type": "markdown",
   "id": "3a4f485698cf53a9",
   "metadata": {},
   "source": [
    "Next, we will modify the AST by making the `add` method return the difference of the two arguments instead of the sum."
   ]
  },
  {
   "cell_type": "code",
   "id": "2cfe0a0b889b9fbb",
   "metadata": {
    "ExecuteTime": {
     "end_time": "2025-01-20T13:59:42.379993Z",
     "start_time": "2025-01-20T13:59:42.375336Z"
    }
   },
   "source": [
    "class ChangeAdd(jast.JNodeTransformer):\n",
    "    def visit_Method(self, node):\n",
    "        if node.id == \"add\":\n",
    "            node.body = self.visit(node.body)\n",
    "            return node\n",
    "        return node\n",
    "\n",
    "    def visit_BinOp(self, node):\n",
    "        if isinstance(node.op, jast.Add):\n",
    "            node.op = jast.Sub()\n",
    "            return node\n",
    "        return node"
   ],
   "outputs": [],
   "execution_count": 10
  },
  {
   "cell_type": "code",
   "id": "e7d82968c176df7d",
   "metadata": {
    "ExecuteTime": {
     "end_time": "2025-01-20T13:59:44.786169Z",
     "start_time": "2025-01-20T13:59:44.782646Z"
    }
   },
   "source": [
    "change_add = ChangeAdd()"
   ],
   "outputs": [],
   "execution_count": 11
  },
  {
   "cell_type": "code",
   "id": "2d69c9374f3e472",
   "metadata": {
    "ExecuteTime": {
     "end_time": "2025-01-20T13:59:46.837772Z",
     "start_time": "2025-01-20T13:59:46.833706Z"
    }
   },
   "source": [
    "new_tree = change_add.visit(tree)"
   ],
   "outputs": [],
   "execution_count": 12
  },
  {
   "cell_type": "code",
   "id": "e7537f68f596fdea",
   "metadata": {
    "ExecuteTime": {
     "end_time": "2025-01-20T13:59:48.147448Z",
     "start_time": "2025-01-20T13:59:48.143487Z"
    }
   },
   "source": [
    "code = jast.unparse(new_tree)\n",
    "print(code)"
   ],
   "outputs": [
    {
     "name": "stdout",
     "output_type": "stream",
     "text": [
      "class Add {\n",
      "    public static int add(int a, int b) {\n",
      "        return a - b;\n",
      "    }\n",
      "\n",
      "    public static void main(String[] args) {\n",
      "        System.out.println(add(27, 55));\n",
      "    }\n",
      "}\n",
      "\n"
     ]
    }
   ],
   "execution_count": 13
  },
  {
   "cell_type": "markdown",
   "id": "2a336329f6bfd0a2",
   "metadata": {},
   "source": [
    "We can save the modified Java source code to a file, compile it, and execute it."
   ]
  },
  {
   "cell_type": "code",
   "id": "1edccb99a2180641",
   "metadata": {
    "ExecuteTime": {
     "end_time": "2025-01-20T13:59:50.797705Z",
     "start_time": "2025-01-20T13:59:50.793372Z"
    }
   },
   "source": [
    "with open(os.path.join(\"demo\", \"Sub.java\"), \"w\") as f:\n",
    "    f.write(code)"
   ],
   "outputs": [],
   "execution_count": 14
  },
  {
   "cell_type": "code",
   "id": "ee6bb639f1cb1049",
   "metadata": {
    "ExecuteTime": {
     "end_time": "2025-01-20T13:59:52.688164Z",
     "start_time": "2025-01-20T13:59:51.927673Z"
    }
   },
   "source": [
    "subprocess.run([\"javac\", \"-d\", \"demo\", os.path.join(\"demo\", \"Sub.java\")])"
   ],
   "outputs": [
    {
     "data": {
      "text/plain": [
       "CompletedProcess(args=['javac', '-d', 'demo', 'demo/Sub.java'], returncode=0)"
      ]
     },
     "execution_count": 15,
     "metadata": {},
     "output_type": "execute_result"
    }
   ],
   "execution_count": 15
  },
  {
   "cell_type": "code",
   "id": "b640254f9c8c038c",
   "metadata": {
    "ExecuteTime": {
     "end_time": "2025-01-20T13:59:56.926392Z",
     "start_time": "2025-01-20T13:59:56.635795Z"
    }
   },
   "source": [
    "process = subprocess.run([\"java\", \"-cp\", \"demo\", \"Add\"], stdout=subprocess.PIPE)\n",
    "print(process.stdout.decode())"
   ],
   "outputs": [
    {
     "name": "stdout",
     "output_type": "stream",
     "text": [
      "-28\n",
      "\n"
     ]
    }
   ],
   "execution_count": 16
  }
 ],
 "metadata": {
  "kernelspec": {
   "display_name": "Python 3 (ipykernel)",
   "language": "python",
   "name": "python3"
  },
  "language_info": {
   "codemirror_mode": {
    "name": "ipython",
    "version": 3
   },
   "file_extension": ".py",
   "mimetype": "text/x-python",
   "name": "python",
   "nbconvert_exporter": "python",
   "pygments_lexer": "ipython3",
   "version": "3.11.1"
  }
 },
 "nbformat": 4,
 "nbformat_minor": 5
}
